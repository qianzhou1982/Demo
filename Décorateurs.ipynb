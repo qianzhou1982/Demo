{
  "nbformat": 4,
  "nbformat_minor": 0,
  "metadata": {
    "colab": {
      "name": "Décorateurs.ipynb",
      "private_outputs": true,
      "provenance": [],
      "collapsed_sections": [
        "F5-qWwGS8hWu",
        "bEnkDJj-9NQ6",
        "Y8sSZJR-ZTVV",
        "ITYPMc8NaUvX",
        "Jjp9gRCq8Syo",
        "l8m6etGQ8_yo"
      ],
      "include_colab_link": true
    },
    "kernelspec": {
      "name": "python3",
      "display_name": "Python 3"
    }
  },
  "cells": [
    {
      "cell_type": "markdown",
      "metadata": {
        "id": "view-in-github",
        "colab_type": "text"
      },
      "source": [
        "<a href=\"https://colab.research.google.com/github/qianzhou1982/Demo/blob/master/D%C3%A9corateurs.ipynb\" target=\"_parent\"><img src=\"https://colab.research.google.com/assets/colab-badge.svg\" alt=\"Open In Colab\"/></a>"
      ]
    },
    {
      "cell_type": "markdown",
      "metadata": {
        "id": "shtA0VKq_1Aq"
      },
      "source": [
        " # Décorateurs\n",
        "\n",
        "Un décorateur est une fonction qui manipule une fonction ou une classe. C'est un élément du langage Python très pratique.\n",
        "\n",
        " Nous allons voir dans ces travaux pratiques comment les utiliser."
      ]
    },
    {
      "cell_type": "markdown",
      "metadata": {
        "id": "mANFJ-w4ACDH"
      },
      "source": [
        "## Décorateurs de fonctions : fonctions qui manipulent des fonctions\n",
        "\n",
        "Écrivez une fonction `squared`, qui prend en entrée une fonction et qui renvoie cette même fonction dont le résultat est passé au carré :\n",
        "\n",
        "- la fonction originale prend toujours deux arguments\n",
        "- la fonction originale produit toujours un nombre\n",
        "- la fonction squared prend en entrée et produit en sortie **une fonction**"
      ]
    },
    {
      "cell_type": "code",
      "metadata": {
        "id": "4_oS8KKP_y8k"
      },
      "source": [
        "def add(a, b):\n",
        "  return a + b\n",
        "\n",
        "\n",
        "def sub(a, b):\n",
        "  return a - b\n",
        "\n",
        "\n",
        "def mul(a, b):\n",
        "  return a * b\n",
        "\n",
        "\n",
        "def squared(function):\n",
        "  return function  # Votre code ici\n",
        "\n",
        "\n",
        "print(squared(add)(2, 2))  # Doit valoir 16\n",
        "print(squared(sub)(10, 5))  # Doit valoir 25\n",
        "print(squared(mul)(3, 4))  # Doit valoir 144"
      ],
      "execution_count": null,
      "outputs": []
    },
    {
      "cell_type": "markdown",
      "metadata": {
        "id": "F5-qWwGS8hWu"
      },
      "source": [
        "### Solution"
      ]
    },
    {
      "cell_type": "code",
      "metadata": {
        "id": "Jw_ncUTg8iK0"
      },
      "source": [
        "def squared(function):\n",
        "  def new_function(a, b):\n",
        "    return function(a, b) ** 2\n",
        "  return new_function\n",
        "\n",
        "\n",
        "print(squared(add)(2, 2))\n",
        "print(squared(sub)(10, 5))\n",
        "print(squared(mul)(3, 4))"
      ],
      "execution_count": null,
      "outputs": []
    },
    {
      "cell_type": "markdown",
      "metadata": {
        "id": "k1oHbmIqO1kK"
      },
      "source": [
        "## Syntaxe de décorateur\n",
        "\n",
        "Pour appliquer un décorateur à une fonction, on peut utiliser la syntaxe suivante :"
      ]
    },
    {
      "cell_type": "code",
      "metadata": {
        "id": "ys3VuAC1Y1Bc"
      },
      "source": [
        "@squared\n",
        "def div(a, b):\n",
        "  return a / b\n",
        "\n",
        "\n",
        "print(div(8, 4))"
      ],
      "execution_count": null,
      "outputs": []
    },
    {
      "cell_type": "markdown",
      "metadata": {
        "id": "mBIsqyUJY9OW"
      },
      "source": [
        "Sans cette syntaxe qui utilise `@`, comment arriver au même résultat ?"
      ]
    },
    {
      "cell_type": "code",
      "metadata": {
        "id": "qKClXxNQY_fp"
      },
      "source": [
        "# Votre code ici"
      ],
      "execution_count": null,
      "outputs": []
    },
    {
      "cell_type": "markdown",
      "metadata": {
        "id": "bEnkDJj-9NQ6"
      },
      "source": [
        "### Solution"
      ]
    },
    {
      "cell_type": "code",
      "metadata": {
        "id": "_nrEw_M49N_I"
      },
      "source": [
        "def div(a, b):\n",
        "    return a / b\n",
        "\n",
        "\n",
        "div = squared(div)\n",
        "\n",
        "\n",
        "print(div(8, 4))"
      ],
      "execution_count": null,
      "outputs": []
    },
    {
      "cell_type": "markdown",
      "metadata": {
        "id": "6lQcPrfTOumN"
      },
      "source": [
        "## Mesure du temps d'exécution d'une fonction\n",
        "\n",
        "Créez un décorateur `timeit` qui affiche le temps d'exécution d'une fonction. Vous pourrez vous aider de la fonction [`time.time`](https://docs.python.org/fr/3/library/time.html#time.time)"
      ]
    },
    {
      "cell_type": "code",
      "metadata": {
        "id": "4KnnBSplZSbw"
      },
      "source": [
        "# Votre code ici"
      ],
      "execution_count": null,
      "outputs": []
    },
    {
      "cell_type": "markdown",
      "metadata": {
        "id": "Y8sSZJR-ZTVV"
      },
      "source": [
        "### Solution"
      ]
    },
    {
      "cell_type": "code",
      "metadata": {
        "id": "r3ESgJ5PZVEq"
      },
      "source": [
        "import time\n",
        "\n",
        "\n",
        "def timeit(f):\n",
        "  def new_f(*args, **kwargs):\n",
        "    start = time.time()\n",
        "    result = f(*args, **kwargs)\n",
        "    print(f\"Time elapsed during '{f.__name__}' call: {time.time() - start}s\")\n",
        "    return result\n",
        "  return new_f\n",
        "\n",
        "\n",
        "@timeit\n",
        "def add(a, b):\n",
        "  return a + b\n",
        "\n",
        "\n",
        "add(1, 2)"
      ],
      "execution_count": null,
      "outputs": []
    },
    {
      "cell_type": "markdown",
      "metadata": {
        "id": "WvXQuDrz92HL"
      },
      "source": [
        "## Décorateur avec arguments\n",
        "\n",
        "Des fois, il est intéressant de pouvoir donner des arguments à un décorateur.\n",
        "\n",
        "Pour cela, il est nécessaire de créer une \"couche\" supplémentaire de fonction : on va définir une fonction avec des arguments, qui renverra un décorateur sans arguments (donc lui-même une fonction qui prend en argument une fonction… ce n'est pas facile).\n",
        "\n",
        "Voyez l'exemple suivant, qui ajoute au décorateur `timeit` vu précedemment un argument pour afficher en secondes ou millisecondes le résultat :"
      ]
    },
    {
      "cell_type": "code",
      "metadata": {
        "id": "aH_p9F13-YnA"
      },
      "source": [
        "import time\n",
        "\n",
        "\n",
        "def timeit(unit=\"s\"):\n",
        "  def decorator(function):\n",
        "    def new_f(*args, **kwargs):\n",
        "      start = time.time()\n",
        "      result = function(*args, **kwargs)\n",
        "      duration = time.time() - start\n",
        "      if unit == \"ms\":\n",
        "        duration *= 1000\n",
        "      elif unit != \"s\":\n",
        "        raise ValueError(\"Can only use s or ms as unit argument\")\n",
        "      print(f\"Time elapsed during '{function.__name__}' call: \"\n",
        "            f\"{duration}{unit}\")\n",
        "      return result\n",
        "    return new_f\n",
        "  return decorator\n",
        "\n",
        "\n",
        "\n",
        "@timeit(unit=\"ms\")\n",
        "def add(a, b):\n",
        "  return a + b\n",
        "\n",
        "\n",
        "add(1, 2)"
      ],
      "execution_count": null,
      "outputs": []
    },
    {
      "cell_type": "markdown",
      "metadata": {
        "id": "iDwAqvKJ_1jG"
      },
      "source": [
        "## Logging automatique\n",
        "\n",
        "Sur un schéma similaire, loggez automatiquement les appels à une fonction, avec les arguments utilisés. Vous pourrez utiliser la fonction [`print`](https://docs.python.org/fr/3/library/functions.html#print) ou les fonctions du module [`logging`](https://docs.python.org/fr/3/library/logging.html)"
      ]
    },
    {
      "cell_type": "code",
      "metadata": {
        "id": "krFpTBDUaTqv"
      },
      "source": [
        "# Votre code ici"
      ],
      "execution_count": null,
      "outputs": []
    },
    {
      "cell_type": "markdown",
      "metadata": {
        "id": "ITYPMc8NaUvX"
      },
      "source": [
        "### Solution"
      ]
    },
    {
      "cell_type": "code",
      "metadata": {
        "id": "uesxjiEPaVg3"
      },
      "source": [
        "import logging\n",
        "\n",
        "\n",
        "logger = logging.getLogger(__name__)\n",
        "logging.basicConfig(level=logging.INFO)\n",
        "\n",
        "\n",
        "def autolog(logger):\n",
        "  def decorator(f):\n",
        "    def new_f(*args, **kwargs):\n",
        "      result = f(*args, **kwargs)\n",
        "      logger.info(f\"%s called with pos args %s and kwargs %s\",\n",
        "                  f.__name__,\n",
        "                  args,\n",
        "                  kwargs)\n",
        "      return result\n",
        "    return new_f\n",
        "  return decorator\n",
        "\n",
        "\n",
        "@autolog(logger)\n",
        "def add(a, b):\n",
        "  return a + b\n",
        "\n",
        "\n",
        "add(1, b=2)"
      ],
      "execution_count": null,
      "outputs": []
    },
    {
      "cell_type": "markdown",
      "metadata": {
        "id": "OqaChoVO7x_Y"
      },
      "source": [
        "## Enregistreur de classe\n",
        "\n",
        "Il est souvent intéressant d'enregistrer des classes ou fonctions dans une structure de données (un registre), pour par exemple proposer un système de plugins.\n",
        "\n",
        "Créez un décorateur de classe qui enregistre chaque classe à laquelle il est appliqué dans un dictionnaire, sous le nom qu'on lui donne en argument."
      ]
    },
    {
      "cell_type": "code",
      "metadata": {
        "id": "zPWX2d1-8RDM"
      },
      "source": [
        "# Votre code ici"
      ],
      "execution_count": null,
      "outputs": []
    },
    {
      "cell_type": "markdown",
      "metadata": {
        "id": "gwB4R5hg94Va"
      },
      "source": [
        "En plus d'ajouter le décorateur aux classes que vous souhaitez enregistrer, quelle étape importante est nécessaire pour que l'enregistrement se fasse ?"
      ]
    },
    {
      "cell_type": "markdown",
      "metadata": {
        "id": "GcjElLmu-Bkk"
      },
      "source": [
        "*Votre réponse*"
      ]
    },
    {
      "cell_type": "markdown",
      "metadata": {
        "id": "Jjp9gRCq8Syo"
      },
      "source": [
        "### Solution"
      ]
    },
    {
      "cell_type": "code",
      "metadata": {
        "id": "xFo7gNVP8Tqo"
      },
      "source": [
        "from typing import Any, Callable, Type\n",
        "\n",
        "\n",
        "_plugins = {}\n",
        "\n",
        "\n",
        "def register(name: str) -> Callable[[Type[Any]], Type[Any]]:\n",
        "  def decorator(cls: Type[Any]) -> Type[Any]:\n",
        "    _plugins[name] = cls\n",
        "    return cls\n",
        "  return decorator\n",
        "\n",
        "\n",
        "@register(\"A\")\n",
        "class A:\n",
        "  pass"
      ],
      "execution_count": null,
      "outputs": []
    },
    {
      "cell_type": "markdown",
      "metadata": {
        "id": "l-Wo9m25-ESe"
      },
      "source": [
        "Il est nécessaire de charger le module qui contient la classe. Cela peut être fait automatiquement pour rendre les systèmes de plugins plus faciles à utiliser, comme par exemple dans la librairie AllenNLP, qui a une fonction pour charger tous les modules d'un paquet donné&nbsp;: [`import_module_and_submodules`](https://github.com/allenai/allennlp/blob/a0edfae9ca571ed7d43749974bb842167201c2da/allennlp/common/util.py#L331)"
      ]
    },
    {
      "cell_type": "markdown",
      "metadata": {
        "id": "5iXuhU9Q8TU3"
      },
      "source": [
        "## Utilisation de [`functools.wraps`](https://docs.python.org/fr/3/library/functools.html#functools.wraps)\n",
        "\n",
        "Essayez de manipuler les fonctions modifiées dans le reste du TP et de trouver leur nom (attribut `__name__`) ou encore leur doc (attribut `__doc__`). Que remarquez-vous ?"
      ]
    },
    {
      "cell_type": "markdown",
      "metadata": {
        "id": "AwuYfgOG8vLw"
      },
      "source": [
        "*Votre réponse*"
      ]
    },
    {
      "cell_type": "markdown",
      "metadata": {
        "id": "ji7sL8u18xUm"
      },
      "source": [
        "Utilisez `functools.wraps` sur l'exemple donné du décorateur `timeit` avec argument pour régler ce problème."
      ]
    },
    {
      "cell_type": "code",
      "metadata": {
        "id": "Oew_7Bgv8dPU"
      },
      "source": [
        "# Votre code ici"
      ],
      "execution_count": null,
      "outputs": []
    },
    {
      "cell_type": "markdown",
      "metadata": {
        "id": "l8m6etGQ8_yo"
      },
      "source": [
        "### Solution"
      ]
    },
    {
      "cell_type": "code",
      "metadata": {
        "id": "SLzcXaei9Atu"
      },
      "source": [
        "import functools\n",
        "import time\n",
        "\n",
        "\n",
        "def timeit(unit=\"s\"):\n",
        "  def decorator(function):\n",
        "    @functools.wraps(function)\n",
        "    def new_f(*args, **kwargs):\n",
        "      start = time.time()\n",
        "      result = function(*args, **kwargs)\n",
        "      duration = time.time() - start\n",
        "      if unit == \"ms\":\n",
        "        duration *= 1000\n",
        "      elif unit != \"s\":\n",
        "        raise ValueError(\"Can only use s or ms as unit argument\")\n",
        "      print(f\"Time elapsed during '{function.__name__}' call: \"\n",
        "            f\"{duration}{unit}\")\n",
        "      return result\n",
        "    return new_f\n",
        "  return decorator\n",
        "\n",
        "\n",
        "@timeit(unit=\"ms\")\n",
        "def add(a, b):\n",
        "  \"\"\"Add two integers.\"\"\"\n",
        "  return a + b\n",
        "\n",
        "\n",
        "print(add.__name__, add.__doc__)"
      ],
      "execution_count": null,
      "outputs": []
    },
    {
      "cell_type": "code",
      "metadata": {
        "id": "2sEBayMK9YvY"
      },
      "source": [
        ""
      ],
      "execution_count": null,
      "outputs": []
    }
  ]
}