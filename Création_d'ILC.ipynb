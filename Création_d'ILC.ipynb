{
  "nbformat": 4,
  "nbformat_minor": 0,
  "metadata": {
    "colab": {
      "name": "Création d'ILC.ipynb",
      "private_outputs": true,
      "provenance": [],
      "collapsed_sections": [],
      "toc_visible": true,
      "include_colab_link": true
    },
    "kernelspec": {
      "name": "python3",
      "display_name": "Python 3"
    }
  },
  "cells": [
    {
      "cell_type": "markdown",
      "metadata": {
        "id": "view-in-github",
        "colab_type": "text"
      },
      "source": [
        "<a href=\"https://colab.research.google.com/github/qianzhou1982/Demo/blob/master/Cr%C3%A9ation_d'ILC.ipynb\" target=\"_parent\"><img src=\"https://colab.research.google.com/assets/colab-badge.svg\" alt=\"Open In Colab\"/></a>"
      ]
    },
    {
      "cell_type": "markdown",
      "metadata": {
        "id": "hu-M5Il3duX2"
      },
      "source": [
        "# Interface en ligne de commande pour GitHub Issues\n",
        "\n",
        "Le but de ces travaux pratiques est d'utiliser un maximum de notions vues durant la formation. Nous allons créer une interface en ligne de commande pour GitHub Issues, créer un paquet et le publier sur Test PyPI."
      ]
    },
    {
      "cell_type": "markdown",
      "metadata": {
        "id": "PrCKCdA1ptEo"
      },
      "source": [
        "## Installation de `poetry`"
      ]
    },
    {
      "cell_type": "code",
      "metadata": {
        "id": "a1sywA9GpvDa"
      },
      "source": [
        "!rm -rf sample_data\n",
        "!curl -sSL https://raw.githubusercontent.com/python-poetry/poetry/master/get-poetry.py | python -\n",
        "path = %env PATH\n",
        "poetry_path = \"/root/.poetry/bin\"\n",
        "if poetry_path not in path:\n",
        "  path = f\"{poetry_path}:{path}\"\n",
        "  %set_env PATH $path\n",
        "!poetry config repositories.testpypi https://test.pypi.org/legacy/\n",
        "!poetry config virtualenvs.create false"
      ],
      "execution_count": null,
      "outputs": []
    },
    {
      "cell_type": "markdown",
      "metadata": {
        "id": "7vtZPVVXp6I_"
      },
      "source": [
        "## Création du projet avec `poetry`\n",
        "\n",
        "Utilisez `poetry` pour créer un projet Python, appelé `github_cli_{pseudopypi}`."
      ]
    },
    {
      "cell_type": "code",
      "metadata": {
        "id": "0np1Imfuqp2C"
      },
      "source": [
        "%%bash\n",
        "poetry new ghcli-m09"
      ],
      "execution_count": null,
      "outputs": []
    },
    {
      "cell_type": "markdown",
      "metadata": {
        "id": "b_7NPKMkqxjP"
      },
      "source": [
        "Corrigez ici le chemin vers votre projet, cela permettra d'exécuter directement toutes les commandes par la suite."
      ]
    },
    {
      "cell_type": "code",
      "metadata": {
        "id": "ffd6sTnRqt5j"
      },
      "source": [
        "%cd /content/ghcli-m09"
      ],
      "execution_count": null,
      "outputs": []
    },
    {
      "cell_type": "markdown",
      "metadata": {
        "id": "vE48e6lhqr_S"
      },
      "source": [
        "## Définition d'une ILC\n",
        "\n",
        "Pour ces travaux pratiques, on souhaite implémenter deux fonctionnalités :\n",
        "- La création d'une issue (un ticket de bug) automatique dans GitHub\n",
        "- Le listage des issues existantes dans un projet GitHub\n",
        "\n",
        "Ces deux fonctionnalités constituent deux commandes naturelles pour une ILC, appelons les `create` et `list`.\n",
        "\n",
        "La commande `list` devra savoir quel dépôt GitHub utiliser pour aller chercher les issues et prendra donc deux arguments, `owner` et `repo`\n",
        "\n",
        "La commande `create` devra aussi savoir quel dépôt GitHub utiliser et aura donc aussi des arguments `owner` et `repo`, auxquels il faudra rajouter un argument pour le titre de l'issue à créer, `title` et un argument pour le corps de l'issue à créer, `body`.\n",
        "\n",
        "Créez un fichier `cli.py` dans votre projet et utilisez `argparse` pour définir une ILC comme décrite ci-dessus."
      ]
    },
    {
      "cell_type": "markdown",
      "metadata": {
        "id": "tshuAV8iwEve"
      },
      "source": [
        "## Implémentation de `list` et `create`\n",
        "\n",
        "Créez un fichier `api.py` dans votre paquet qui contiendra la logique dont les deux commandes se serviront. Pour faire une requête sur l'API GitHub, on peut utiliser l'excellent module `requests` (installez le maintenant avec `poetry`). Par exemple, pour `list`, l'apppel ressemblerait à :\n",
        "\n",
        "Vous noterez qu'il faut un token pour que l'API GitHub fonctionne. Vous pouvez le créer ici : https://github.com/settings/tokens.\n",
        "\n",
        "Il faut donner l'autorisation `public_repo` pour pouvoir créer des issues sur des dépôts publics.\n",
        "\n",
        "```python\n",
        "response = requests.get(\n",
        "    f\"https://api.github.com/repos/{owner}/{repo}/issues\",\n",
        "    headers=dict(\n",
        "        Accept=\"application/vnd.github.v3+json\",\n",
        "        Authorization=f\"token {_GITHUB_TOKEN}\",\n",
        "    ),\n",
        ")\n",
        "```\n",
        "Pour `create`, il ressemblerait à :\n",
        "```python\n",
        "requests.post(\n",
        "    f\"https://api.github.com/repos/{owner}/{repo}/issues\",\n",
        "    json=data,\n",
        "    headers=dict(\n",
        "        Accept=\"application/vnd.github.v3+json\",\n",
        "        Authorization=f\"token {_GITHUB_TOKEN}\",\n",
        "    ),\n",
        ")\n",
        "```\n",
        "où `data` serait un dictionnaire contenant une clef `title` et une clef `body`.\n",
        "\n",
        "Implémentez à l'aide de ces deux appels les fonctions `create_issue` et `list_issues`."
      ]
    },
    {
      "cell_type": "markdown",
      "metadata": {
        "id": "Yd2W6oAmxhkt"
      },
      "source": [
        "## Définition du point d'entrée\n",
        "\n",
        "Pour pouvoir appeler facilement votre programme depuis la ligne de commande, il faut définir un point d'entrée. Pour cela on modifie le fichier `pyproject.toml` de la manière suivante :\n",
        "\n",
        "```ini\n",
        "[tool.poetry.scripts]\n",
        "ghcli = 'github_cli_{pseudopypi}.cli:main'\n",
        "```"
      ]
    },
    {
      "cell_type": "code",
      "metadata": {
        "id": "aIbGt_XDX4nG"
      },
      "source": [
        "%%bash\n",
        "ghcli --help"
      ],
      "execution_count": null,
      "outputs": []
    },
    {
      "cell_type": "markdown",
      "metadata": {
        "id": "3jHJinx-x4vc"
      },
      "source": [
        "## Tests\n",
        "\n",
        "Maintenant que votre projet a des fonctionnalités de base, il est temps d'ajouter des tests (dans une démarche TDD, on aurait bien sûr commencé par ceux-ci).\n",
        "\n",
        "Ajoutez un test par fonction dans le dossier `tests`."
      ]
    },
    {
      "cell_type": "markdown",
      "metadata": {
        "id": "Wd8Cr4zDyEX_"
      },
      "source": [
        "## Publication\n",
        "\n",
        "Tout semble prêt pour une première release ! Publiez votre paquet sur Test PyPI (pour rappel, utilisez bien l'argument `-r testpypi` dans votre commande de publication)."
      ]
    }
  ]
}