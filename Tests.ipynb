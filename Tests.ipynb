{
  "nbformat": 4,
  "nbformat_minor": 0,
  "metadata": {
    "colab": {
      "name": "Tests.ipynb",
      "private_outputs": true,
      "provenance": [],
      "collapsed_sections": [
        "kr1xmGuCtFdz",
        "u4Qhi0Xj9QtQ",
        "6ZfiJHH9Hu7r",
        "yzi33sPf_RZz",
        "z2EzEdVtD9rk",
        "KvNTlsbEFC2y",
        "bA_GPz4KZ-X0"
      ],
      "toc_visible": true,
      "include_colab_link": true
    },
    "kernelspec": {
      "name": "python3",
      "display_name": "Python 3"
    }
  },
  "cells": [
    {
      "cell_type": "markdown",
      "metadata": {
        "id": "view-in-github",
        "colab_type": "text"
      },
      "source": [
        "<a href=\"https://colab.research.google.com/github/qianzhou1982/Demo/blob/master/Tests.ipynb\" target=\"_parent\"><img src=\"https://colab.research.google.com/assets/colab-badge.svg\" alt=\"Open In Colab\"/></a>"
      ]
    },
    {
      "cell_type": "markdown",
      "metadata": {
        "id": "VU75RpqJhfIg"
      },
      "source": [
        "# Tests"
      ]
    },
    {
      "cell_type": "markdown",
      "metadata": {
        "id": "xc6gKR7Qhhfx"
      },
      "source": [
        "## Mise en place de l'environnement de travail\n",
        "\n",
        "- Cliquez sur l'icone dossier du panneau latéral, puis connectez votre Drive\n",
        "- Exécutez la commande suivante, qui va récupérer le matériel requis et le mettre dans le dossier `python-avance/tests/` de votre Drive, pour que vous ne perdiez pas votre travail. Cette commande va aussi changer le répertoire courant du notebook pour pointer vers ce dossier."
      ]
    },
    {
      "cell_type": "code",
      "metadata": {
        "id": "nJitL36Wh_G9"
      },
      "source": [
        "!pip install pytest mutmut hypothesis deal\n",
        "\n",
        "import pathlib\n",
        "\n",
        "drive_dir = pathlib.Path(\"/content\") / \"drive\" / \"MyDrive\"\n",
        "\n",
        "\n",
        "if not drive_dir.exists():\n",
        "  print(\"Vous n'avez pas monté votre Drive, consultez le texte ci-dessus.\")\n",
        "else:\n",
        "  root_dir = drive_dir / \"python-avance\"\n",
        "  root_dir.mkdir(parents=True, exist_ok=True)\n",
        "  tests_dir = root_dir / \"tests\"\n",
        "\n",
        "  if not tests_dir.exists():\n",
        "    !git clone https://github.com/nzmognzmp/tp-tests.git {str(tests_dir)}\n",
        "\n",
        "  if pathlib.Path.cwd() != tests_dir:\n",
        "    %cd {tests_dir}"
      ],
      "execution_count": null,
      "outputs": []
    },
    {
      "cell_type": "markdown",
      "metadata": {
        "id": "9gPHPZs8w2yB"
      },
      "source": [
        "## Mise en place d'une démarche TDD\n",
        "\n",
        "Voici le cahier des charges d'un système de gestion de dépendances que vous devez livrer à un de vos clients :\n",
        "\n",
        "Pour une application de location de voitures, vous devez proposer un formulaire de sélection d'options. Les options peuvent avoir des dépendances entre elles (le système GPS ne peut être sélectionné que si l'USB l'est aussi par exemple). Cela veut dire pour le formulaire que si l'utilisateur désactive l'USB, le GPS doit être désactivé automatiquement.\n",
        "\n",
        "Il est aussi possible que certaines options soient incompatibles : par exemple, si vous souhaitez sélectionner un lecteur de musique alors que le GPS est déjà sélectionné, et comme les deux utilisent le seul port USB disponible, la sélection ne doit pas être possible.\n",
        "\n",
        "Formalisation préliminaire :\n",
        "\n",
        "Ensemble de règles\n",
        "\n",
        "- On dit que l'option A dépend de l'opion B si pour que A soit sélectionnée, B doit l'être aussi\n",
        "\n",
        "- On dit que l'option A est en conflit avec l'option B, si pour que A soit sélectionnée, B doit être désélectionnée et inversement.\n",
        "\n",
        "On dit qu'un ensemble de dépendances et de conflits est cohérent si il ne génère pas de contradiction (une contradiction serait par exemple, pour que A soit sélectionnée, qu'il faille que B soit sélectionné et désélectionné).\n",
        "\n",
        "Par exemple, cet ensemble de règles serait cohérent, avec les dépendances notées `A -> B` pour `A` dépend de `B` et les conflits notés `A | B` :\n",
        "\n",
        "```\n",
        "A -> B\n",
        "B -> C\n",
        "C | D\n",
        "```\n",
        "\n",
        "Celui-ci ne le serait pas :\n",
        "\n",
        "```python\n",
        "A -> B\n",
        "A | B\n",
        "```\n",
        "\n",
        "Mettez en place une démarche TDD pour créer ce système de règles. Pour l'instant, intéressez-vous seulement à la modélisation des dépendances et des conflits ainsi qu'au calcul de la cohérence (des règles sont-elles cohérentes ?). On regardera la sélection à proprement parler plus tard.\n",
        "\n",
        "Pour être compatible avec la suite du TP, il est conseillé de nommer votre classe `RuleSet` d'ajouter les méthodes `add_dep`, `add_conflict` et `is_coherent`."
      ]
    },
    {
      "cell_type": "code",
      "metadata": {
        "id": "aJVvXG8Ct20F"
      },
      "source": [
        "# Votre code ici"
      ],
      "execution_count": null,
      "outputs": []
    },
    {
      "cell_type": "markdown",
      "metadata": {
        "id": "kr1xmGuCtFdz"
      },
      "source": [
        "### Solution"
      ]
    },
    {
      "cell_type": "code",
      "metadata": {
        "id": "0FBhEvvvtHUm"
      },
      "source": [
        "from collections import defaultdict\n",
        "\n",
        "\n",
        "class RuleSet:\n",
        "  def __init__(self):\n",
        "    self.deps = defaultdict(set)\n",
        "    self.conflicts = defaultdict(set)\n",
        "\n",
        "  def add_dep(self, a, b):\n",
        "    self.deps[a].add(b)\n",
        "\n",
        "  def add_conflict(self, a, b):\n",
        "    self.conflicts[a].add(b)\n",
        "    self.conflicts[b].add(a)\n",
        "\n",
        "  def is_coherent(self):\n",
        "    options = frozenset(self.deps)\n",
        "    for option in options:\n",
        "      deps = self.compute_deps(option)\n",
        "      for dep in deps:\n",
        "        if self.conflicts[dep] & deps:\n",
        "          return False\n",
        "    return True\n",
        "\n",
        "  def compute_deps(self, option):\n",
        "    to_visit = {option}\n",
        "    deps = set()\n",
        "    while to_visit:\n",
        "      dep = to_visit.pop()\n",
        "      deps.add(dep)\n",
        "      to_visit.update(self.deps.get(dep, set()) - deps)\n",
        "    return deps\n",
        "\n",
        "\n",
        "def test_depends_aa():\n",
        "  rs = RuleSet()\n",
        "\n",
        "  rs.add_dep(\"a\", \"a\")\n",
        "\n",
        "  assert rs.is_coherent()\n",
        "\n",
        "\n",
        "test_depends_aa()\n",
        "\n",
        "\n",
        "def test_depends_ab_ba():\n",
        "  rs = RuleSet()\n",
        "\n",
        "  rs.add_dep(\"a\", \"b\")\n",
        "  rs.add_dep(\"b\", \"a\")\n",
        "\n",
        "  assert rs.is_coherent()\n",
        "\n",
        "\n",
        "test_depends_ab_ba()\n",
        "\n",
        "\n",
        "def test_exclusive_ab():\n",
        "  rs = RuleSet()\n",
        "\n",
        "  rs.add_dep(\"a\", \"b\")\n",
        "  rs.add_conflict(\"a\", \"b\")\n",
        "\n",
        "  assert not rs.is_coherent()\n",
        "\n",
        "\n",
        "test_exclusive_ab()\n",
        "\n",
        "\n",
        "\n",
        "def test_exclusive_ab_bc():\n",
        "  rs = RuleSet()\n",
        "\n",
        "  rs.add_dep(\"a\", \"b\")\n",
        "  rs.add_dep(\"b\", \"c\")\n",
        "  rs.add_conflict(\"a\", \"c\")\n",
        "\n",
        "  assert not rs.is_coherent()\n",
        "\n",
        "\n",
        "test_exclusive_ab_bc()\n",
        "\n",
        "\n",
        "def test_deep_deps():\n",
        "  rs = RuleSet()\n",
        "\n",
        "  rs.add_dep(\"a\", \"b\")\n",
        "  rs.add_dep(\"b\", \"c\")\n",
        "  rs.add_dep(\"c\", \"d\")\n",
        "  rs.add_dep(\"d\", \"e\")\n",
        "  rs.add_dep(\"a\", \"f\")\n",
        "  rs.add_conflict(\"e\", \"f\")\n",
        "\n",
        "  assert not rs.is_coherent()\n",
        "\n",
        "\n",
        "test_deep_deps()"
      ],
      "execution_count": null,
      "outputs": []
    },
    {
      "cell_type": "markdown",
      "metadata": {
        "id": "mZmcW-oot10q"
      },
      "source": [
        "## Utilisation de `pytest`\n",
        "\n",
        "Créez un fichier `ruleset.py` et un fichier `ruleset_tests.py` dans le dossier `/content/drive/MyDrive/python-avance/tests` et copiez-y votre code, en séparant correctement entre code applicatif et code de test.\n",
        "\n",
        "Utilisez maintenant `pytest` pour exécuter vos tests."
      ]
    },
    {
      "cell_type": "code",
      "metadata": {
        "id": "Avmdvqr89MyE"
      },
      "source": [
        "%%bash\n",
        "# Votre utilisation de pytest ici"
      ],
      "execution_count": null,
      "outputs": []
    },
    {
      "cell_type": "markdown",
      "metadata": {
        "id": "u4Qhi0Xj9QtQ"
      },
      "source": [
        "### Solution"
      ]
    },
    {
      "cell_type": "code",
      "metadata": {
        "id": "fQVVFWmG9SF9"
      },
      "source": [
        "from pathlib import Path\n",
        "\n",
        "\n",
        "if not Path(\"ruleset.py\").exists():\n",
        "  !wget https://raw.githubusercontent.com/nzmognzmp/tp-tests/correction/ruleset.py\n",
        "if not Path(\"ruleset_tests.py\").exists():\n",
        "  !wget https://raw.githubusercontent.com/nzmognzmp/tp-tests/correction/ruleset_tests.py\n",
        "!pytest ruleset_tests.py"
      ],
      "execution_count": null,
      "outputs": []
    },
    {
      "cell_type": "markdown",
      "metadata": {
        "id": "ugIYvjJZF1pO"
      },
      "source": [
        "## Utilisation avancée de `pytest`\n",
        "\n",
        "Utilisez une [fixture](https://docs.pytest.org/en/stable/fixture.html) pour créer un `RuleSet` que vous utiliserez pour plusieurs tests.\n",
        "\n",
        "Utilisez [`parametrize`](https://docs.pytest.org/en/stable/parametrize.html#pytest-mark-parametrize-parametrizing-test-functions) pour factoriser votre code de test."
      ]
    },
    {
      "cell_type": "code",
      "metadata": {
        "id": "FgpGRih2HqoZ"
      },
      "source": [
        "%%bash\n",
        "# Votre utilisation avancée de pytest ici"
      ],
      "execution_count": null,
      "outputs": []
    },
    {
      "cell_type": "markdown",
      "metadata": {
        "id": "6ZfiJHH9Hu7r"
      },
      "source": [
        "### Solution"
      ]
    },
    {
      "cell_type": "code",
      "metadata": {
        "id": "J7mhXUWKHwL_"
      },
      "source": [
        "if not Path(\"ruleset_adv_tests.py\").exists():\n",
        "  !wget https://raw.githubusercontent.com/nzmognzmp/tp-tests/correction/ruleset_adv_tests.py\n",
        "\n",
        "!pytest ruleset_adv_tests.py"
      ],
      "execution_count": null,
      "outputs": []
    },
    {
      "cell_type": "markdown",
      "metadata": {
        "id": "n5UXG4e78sX8"
      },
      "source": [
        "## Tests par mutations\n",
        "\n",
        "En ayant défini une base de tests `pytest`, il est déjà possible d'utiliser certaines librairies avancées comme [`mutmut`](https://mutmut.readthedocs.io/en/latest/), qui sont basées sur `pytest`.\n",
        "\n",
        "Testez votre code avec un test par mutations en utilisant `mutmut`"
      ]
    },
    {
      "cell_type": "code",
      "metadata": {
        "id": "1U8gTy7c76a6"
      },
      "source": [
        "%%bash\n",
        "# Votre code ici"
      ],
      "execution_count": null,
      "outputs": []
    },
    {
      "cell_type": "markdown",
      "metadata": {
        "id": "yzi33sPf_RZz"
      },
      "source": [
        "### Solution"
      ]
    },
    {
      "cell_type": "code",
      "metadata": {
        "id": "I8akOhtg_TSN"
      },
      "source": [
        "!mutmut run --paths-to-mutate ruleset.py --runner \"pytest ruleset_tests.py\""
      ],
      "execution_count": null,
      "outputs": []
    },
    {
      "cell_type": "code",
      "metadata": {
        "id": "dJUO4FmG_9T7"
      },
      "source": [
        "!mutmut show 10"
      ],
      "execution_count": null,
      "outputs": []
    },
    {
      "cell_type": "markdown",
      "metadata": {
        "id": "qPZgopaO_UAi"
      },
      "source": [
        "## Tests par génération\n",
        "\n",
        "D'autres librairies se concentrent sur la génération de cas. C'est le cas de l'excellente librairie `hypothesis`.\n",
        "\n",
        "En utilisant des stratégies appropriées, testez votre `RuleSet` avec des exemples générés aléatoirement."
      ]
    },
    {
      "cell_type": "code",
      "metadata": {
        "id": "knI3ZSt_ALqu"
      },
      "source": [
        "# Votre code ici"
      ],
      "execution_count": null,
      "outputs": []
    },
    {
      "cell_type": "markdown",
      "metadata": {
        "id": "z2EzEdVtD9rk"
      },
      "source": [
        "### Solution"
      ]
    },
    {
      "cell_type": "code",
      "metadata": {
        "id": "3MsVl6n_D-g_"
      },
      "source": [
        "from hypothesis import given\n",
        "from hypothesis.strategies import integers, sets, tuples\n",
        "\n",
        "\n",
        "@given(sets(tuples(integers(0, 5), integers(0, 5))))\n",
        "def test_undepended_conflict(deps):\n",
        "  rs = RuleSet()\n",
        "  for a, b in deps:\n",
        "    rs.add_dep(a, b)\n",
        "  for i in range(6):\n",
        "    rs.add_conflict(i, 6)\n",
        "  assert rs.is_coherent()\n",
        "\n",
        "test_undepended_conflict()"
      ],
      "execution_count": null,
      "outputs": []
    },
    {
      "cell_type": "markdown",
      "metadata": {
        "id": "w_-WbNEeEgsl"
      },
      "source": [
        "## Test de code existant\n",
        "\n",
        "Dans la première cellule de ces travaux pratiques, vous avez récupéré un fichier `options.py`, qui contient l'implémentation du mécanisme de sélection.\n",
        "\n",
        "Écrivez des tests compatibles avec `pytest` et `mutmut` pour vous assurer que ce code répond aux exigences de l'énoncé.\n",
        "\n",
        "Visez l'absence de mutants survivants."
      ]
    },
    {
      "cell_type": "code",
      "metadata": {
        "id": "i7h-JW1QG7OV"
      },
      "source": [
        "# Votre code ici"
      ],
      "execution_count": null,
      "outputs": []
    },
    {
      "cell_type": "markdown",
      "metadata": {
        "id": "KvNTlsbEFC2y"
      },
      "source": [
        "### Solution"
      ]
    },
    {
      "cell_type": "code",
      "metadata": {
        "id": "0E_jSsLEJ2Dv"
      },
      "source": [
        "if not Path(\"options_tests.py\").exists():\n",
        "  !wget https://raw.githubusercontent.com/nzmognzmp/tp-tests/correction/options_tests.py\n",
        "!mutmut run --paths-to-mutate options.py --runner \"pytest options_tests.py\""
      ],
      "execution_count": null,
      "outputs": []
    },
    {
      "cell_type": "markdown",
      "metadata": {
        "id": "LWSiOa2kXop7"
      },
      "source": [
        "## Contrats\n",
        "\n",
        "La programmation par contrats est très intéressantes pour le cœur du logiciel, qui gère la logique métier.\n",
        "\n",
        "Agrémentez la classe `RuleSet` de contrats pour vérifier les hypothèses que vous faites sur sa logique. Pour cela, vous pourrez utiliser l'excellente librairie [`deal`](https://deal.readthedocs.io/index.html).\n",
        "\n",
        "Vous pouvez la recopier ci-dessous et la tester de manière ad-hoc dans la cellule."
      ]
    },
    {
      "cell_type": "code",
      "metadata": {
        "id": "PBlWjwmzFIK3"
      },
      "source": [
        "# Votre code ici"
      ],
      "execution_count": null,
      "outputs": []
    },
    {
      "cell_type": "markdown",
      "metadata": {
        "id": "bA_GPz4KZ-X0"
      },
      "source": [
        "### Solution"
      ]
    },
    {
      "cell_type": "code",
      "metadata": {
        "id": "04XMoP9EZ_8z"
      },
      "source": [
        "from collections import defaultdict\n",
        "\n",
        "import deal\n",
        "\n",
        "\n",
        "@deal.inv(lambda rs: (not hasattr(rs, \"conflicts\")\n",
        "                      or all(k not in v for k, v in rs.conflicts.items())))\n",
        "class RuleSet:\n",
        "    def __init__(self):\n",
        "        self.deps = defaultdict(set)\n",
        "        self.conflicts = defaultdict(set)\n",
        "\n",
        "    def add_dep(self, a, b):\n",
        "        self.deps[a].add(b)\n",
        "\n",
        "    @deal.pre(lambda s, a, b: a != b)\n",
        "    def add_conflict(self, a, b):\n",
        "        self.conflicts[a].add(b)\n",
        "        self.conflicts[b].add(a)\n",
        "\n",
        "    def is_coherent(self):\n",
        "        options = frozenset(self.deps)\n",
        "        for option in options:\n",
        "            deps = self.compute_deps(option)\n",
        "            for dep in deps:\n",
        "                if self.conflicts[dep] & deps:\n",
        "                    return False\n",
        "        return True\n",
        "\n",
        "    def compute_deps(self, option):\n",
        "        to_visit = {option}\n",
        "        deps = set()\n",
        "        while to_visit:\n",
        "            dep = to_visit.pop()\n",
        "            deps.add(dep)\n",
        "            to_visit.update(self.deps.get(dep, set()) - deps)\n",
        "        return deps"
      ],
      "execution_count": null,
      "outputs": []
    },
    {
      "cell_type": "code",
      "metadata": {
        "id": "kUQOG67GYm2Z"
      },
      "source": [
        "rs = RuleSet()\n",
        "rs.add_conflict(\"a\", \"b\")"
      ],
      "execution_count": null,
      "outputs": []
    },
    {
      "cell_type": "code",
      "metadata": {
        "id": "CkyWfsMIYnnI"
      },
      "source": [
        "rs.add_conflict(\"a\", \"a\")"
      ],
      "execution_count": null,
      "outputs": []
    },
    {
      "cell_type": "code",
      "metadata": {
        "id": "_fcCH1biRQUM"
      },
      "source": [
        ""
      ],
      "execution_count": null,
      "outputs": []
    }
  ]
}