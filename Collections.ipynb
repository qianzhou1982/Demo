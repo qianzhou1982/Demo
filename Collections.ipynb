{
  "nbformat": 4,
  "nbformat_minor": 0,
  "metadata": {
    "colab": {
      "name": "Collections.ipynb",
      "private_outputs": true,
      "provenance": [],
      "collapsed_sections": [
        "M_c4pi9JUZoz",
        "Z6w1P8o1noeS",
        "OqrO_OFWYB29"
      ],
      "include_colab_link": true
    },
    "kernelspec": {
      "name": "python3",
      "display_name": "Python 3"
    }
  },
  "cells": [
    {
      "cell_type": "markdown",
      "metadata": {
        "id": "view-in-github",
        "colab_type": "text"
      },
      "source": [
        "<a href=\"https://colab.research.google.com/github/qianzhou1982/Demo/blob/master/Collections.ipynb\" target=\"_parent\"><img src=\"https://colab.research.google.com/assets/colab-badge.svg\" alt=\"Open In Colab\"/></a>"
      ]
    },
    {
      "cell_type": "markdown",
      "metadata": {
        "id": "PnqWIFpR6VEl"
      },
      "source": [
        "# Collections"
      ]
    },
    {
      "cell_type": "markdown",
      "metadata": {
        "id": "-vnDGVP4SiFm"
      },
      "source": [
        "## Inventaire\n",
        "\n",
        "On souhaite calculer le stock disponible d'une boutique à partir d'une liste de transactions de la forme `(category, item, quantity)` où `quantity` est positif ou négatig (achat ou vente).\n",
        "\n",
        "Utilisez une ou des structures de données efficaces (du module [`collections`](https://docs.python.org/fr/3/library/collections.html) par exemple) pour calculer et stocker cet inventaire."
      ]
    },
    {
      "cell_type": "code",
      "metadata": {
        "id": "vTRI5OF76TSv"
      },
      "source": [
        "operations = [\n",
        "  (\"nourriture\", \"haricots\", 5),\n",
        "  (\"nourriture\", \"maïs\", 10),\n",
        "  (\"vêtements\", \"tshirt\", 20),\n",
        "  (\"vêtements\", \"tshirt\", -1),\n",
        "  (\"nourriture\", \"maïs\", -2),\n",
        "  (\"nourriture\", \"haricots\", -1),\n",
        "  (\"vêtements\", \"tshirt\", -1),\n",
        "  (\"nourriture\", \"maïs\", -3),\n",
        "  (\"vêtements\", \"tshirt\", -1),\n",
        "]\n",
        "\n",
        "\n",
        "# Votre code ici"
      ],
      "execution_count": null,
      "outputs": []
    },
    {
      "cell_type": "markdown",
      "metadata": {
        "id": "M_c4pi9JUZoz"
      },
      "source": [
        "### Solution"
      ]
    },
    {
      "cell_type": "code",
      "metadata": {
        "id": "sHrrJoJg6nOq"
      },
      "source": [
        "from collections import Counter, defaultdict\n",
        "\n",
        "\n",
        "inventory = defaultdict(Counter)\n",
        "for category, item, quantity in operations:\n",
        "  inventory[category][item] += quantity\n",
        "\n",
        "\n",
        "print(inventory)\n",
        "print({k: dict(v) for k, v in inventory.items()})"
      ],
      "execution_count": null,
      "outputs": []
    },
    {
      "cell_type": "markdown",
      "metadata": {
        "id": "HKY50HFUU5Vt"
      },
      "source": [
        "## `defaultdict` imbriqués\n",
        "\n",
        "Créez une structure de données qui fera correspondre des auteurs aux années où ils ont écrit leurs livres, ces années à ces livres, puis ces livres à leur texte representé comme une liste de mots. Pour cela, utilisez deux `defaultdict` imbriqués, et utilisez simplement la méthode `split` pour séparer le texte en mots, même si c'est imparfait."
      ]
    },
    {
      "cell_type": "code",
      "metadata": {
        "id": "wSAq0qvOmjK2"
      },
      "source": [
        "books = [\n",
        "    (\"V. Hugo\", 1862, \"Les Misérables\", \"En  1815,  M.  Charles-François-Bienvenu  Myriel était  évêque  de  Digne.\"),\n",
        "    (\"V. Hugo\", 1831, \"Notre-Dame de Paris\", \"Il y a aujourd’hui trois cent quarante-huit ans six mois et dix-neuf jours…\"),\n",
        "    (\"L. Tolstoï\", 1865, \"Guerre et Paix\", \"« Eh bien, prince, que vous disais-je ? Gênes et Lucques sont devenues…\")\n",
        "]\n",
        "\n",
        "# Votre code ici"
      ],
      "execution_count": null,
      "outputs": []
    },
    {
      "cell_type": "markdown",
      "metadata": {
        "id": "Z6w1P8o1noeS"
      },
      "source": [
        "### Solution"
      ]
    },
    {
      "cell_type": "code",
      "metadata": {
        "id": "ACkZuYAZnpSH"
      },
      "source": [
        "from collections import defaultdict\n",
        "from pprint import pprint\n",
        "\n",
        "\n",
        "books_dict = defaultdict(lambda: defaultdict(dict))\n",
        "for author, year, title, text in books:\n",
        "  books_dict[author][year][title] = text.split()\n",
        "pprint(books_dict)"
      ],
      "execution_count": null,
      "outputs": []
    },
    {
      "cell_type": "markdown",
      "metadata": {
        "id": "s0GWMYpFXcdA"
      },
      "source": [
        "## Fusion de configuration\n",
        "\n",
        "Étant donné deux configurations, l'une globale, l'autre spécifique, créez un dictionnaire qui contient les valeurs des deux fusionnées, en donnant la priorité à la spécifique quand il y a conflit."
      ]
    },
    {
      "cell_type": "code",
      "metadata": {
        "id": "HxcsRh7nUWTj"
      },
      "source": [
        "global_configuration = dict(\n",
        "    font_size=10,\n",
        "    left_margin=1,\n",
        "    right_margin=2,\n",
        ")\n",
        "\n",
        "\n",
        "specific_configuration = dict(\n",
        "    font_size=11,\n",
        "    top_margin=3\n",
        ")\n",
        "\n",
        "\n",
        "# Votre code ici"
      ],
      "execution_count": null,
      "outputs": []
    },
    {
      "cell_type": "markdown",
      "metadata": {
        "id": "OqrO_OFWYB29"
      },
      "source": [
        "### Solution"
      ]
    },
    {
      "cell_type": "code",
      "metadata": {
        "id": "J3t1gOX0YDE9"
      },
      "source": [
        "import collections\n",
        "\n",
        "\n",
        "merged_configuration = collections.ChainMap(specific_configuration,\n",
        "                                            global_configuration)\n",
        "for k, v in merged_configuration.items():\n",
        "  print(k, v)"
      ],
      "execution_count": null,
      "outputs": []
    }
  ]
}