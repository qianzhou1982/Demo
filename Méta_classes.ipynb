{
  "nbformat": 4,
  "nbformat_minor": 0,
  "metadata": {
    "colab": {
      "name": "Méta-classes.ipynb",
      "private_outputs": true,
      "provenance": [],
      "collapsed_sections": [
        "8_97gAr6lhTg",
        "0ij2KJIMebqE",
        "Lj5vFc8Zi0nX",
        "zt6ICb3s0b8l"
      ],
      "toc_visible": true,
      "include_colab_link": true
    },
    "kernelspec": {
      "name": "python3",
      "display_name": "Python 3"
    }
  },
  "cells": [
    {
      "cell_type": "markdown",
      "metadata": {
        "id": "view-in-github",
        "colab_type": "text"
      },
      "source": [
        "<a href=\"https://colab.research.google.com/github/qianzhou1982/Demo/blob/master/M%C3%A9ta_classes.ipynb\" target=\"_parent\"><img src=\"https://colab.research.google.com/assets/colab-badge.svg\" alt=\"Open In Colab\"/></a>"
      ]
    },
    {
      "cell_type": "markdown",
      "metadata": {
        "id": "4aQ6tTk7kFbM"
      },
      "source": [
        "# Méta-classes"
      ]
    },
    {
      "cell_type": "markdown",
      "metadata": {
        "id": "6bOiCae6kMo-"
      },
      "source": [
        "## Implémentation du pattern singleton\n",
        "\n",
        "Le pattern singleton consiste en le fait de renvoyer toujours la même instance quand du code client demande une nouvelle instance d'une classe.\n",
        "\n",
        "Créez une méta-classe `Singleton` qui implémente ce pattern. Attention, notez bien qu'une méta-classe peut être appliquée à plusieurs classes.\n",
        "\n",
        "Une méta-classe peut ré-implémeter plusieurs méthodes. Ici, le plus simple sera de redéfinir `__call__`."
      ]
    },
    {
      "cell_type": "code",
      "metadata": {
        "id": "al1FjNzoXd_C"
      },
      "source": [
        "# Votre code ici"
      ],
      "execution_count": null,
      "outputs": []
    },
    {
      "cell_type": "markdown",
      "metadata": {
        "id": "8_97gAr6lhTg"
      },
      "source": [
        "### Solution"
      ]
    },
    {
      "cell_type": "code",
      "metadata": {
        "id": "rRd-cr4RliQW"
      },
      "source": [
        "class Singleton(type):\n",
        "\n",
        "  _instances = {}\n",
        "\n",
        "  def __call__(cls, *args, **kwargs):\n",
        "    if cls not in cls._instances:\n",
        "      cls._instances[cls] = super().__call__(*args, **kwargs)\n",
        "    return cls._instances[cls]\n",
        "\n",
        "\n",
        "class A(metaclass=Singleton):\n",
        "    pass\n",
        "\n",
        "\n",
        "a1 = A()\n",
        "a2 = A()\n",
        "print(a1 is a2)"
      ],
      "execution_count": null,
      "outputs": []
    },
    {
      "cell_type": "markdown",
      "metadata": {
        "id": "O4mjNX3EvBpa"
      },
      "source": [
        "## Personnalisation d'une classe\n",
        "\n",
        "Utilisez une métaclasse pour contrôler comment une classe sera représentée si elle est affichée. Vous pourrez mettre ici la représentation de votre choix."
      ]
    },
    {
      "cell_type": "code",
      "metadata": {
        "id": "lRXKML6AeaqL"
      },
      "source": [
        "# Votre code ici"
      ],
      "execution_count": null,
      "outputs": []
    },
    {
      "cell_type": "markdown",
      "metadata": {
        "id": "0ij2KJIMebqE"
      },
      "source": [
        "### Solution"
      ]
    },
    {
      "cell_type": "code",
      "metadata": {
        "id": "ISsl3Vp1vIvg"
      },
      "source": [
        "class RepresentationMetaclass(type):\n",
        "  def __str__(cls):\n",
        "    return f\"Classe {cls.__name__}\"\n",
        "\n",
        "class A(metaclass=RepresentationMetaclass):\n",
        "  pass\n",
        "\n",
        "print(A)"
      ],
      "execution_count": null,
      "outputs": []
    },
    {
      "cell_type": "markdown",
      "metadata": {
        "id": "djO_bLDhe14d"
      },
      "source": [
        "## Modification de méthodes\n",
        "\n",
        "Écrivez une métaclasse qui transforme toutes les méthodes contenant le mot \"compute\" d'une classe avec le décorateur suivant, qui log les appels aux méthodes qu'il décore :"
      ]
    },
    {
      "cell_type": "code",
      "metadata": {
        "id": "h9eqk1-ofA4V"
      },
      "source": [
        "import functools\n",
        "\n",
        "\n",
        "def log_calls(f):\n",
        "\n",
        "  @functools.wraps(f)\n",
        "  def wrapper(self, *args, **kwargs):\n",
        "    result = f(self, *args, **kwargs)\n",
        "    print(f\"{f.__name__} appelée avec les args {args} et kwargs {kwargs} a \"\n",
        "          f\"calculé {result}\")\n",
        "    return result\n",
        "\n",
        "  return wrapper"
      ],
      "execution_count": null,
      "outputs": []
    },
    {
      "cell_type": "markdown",
      "metadata": {
        "id": "Lj5vFc8Zi0nX"
      },
      "source": [
        "### Solution"
      ]
    },
    {
      "cell_type": "code",
      "metadata": {
        "id": "6IPFWvKKi1bF"
      },
      "source": [
        "\n",
        "class LogComputeMeta(type):\n",
        "  def __new__(self, name, bases, dct):\n",
        "    new_dct = {k: (log_calls(v) if \"compute\" in k else v) for k, v in dct.items()}\n",
        "    return super().__new__(self, name, bases, new_dct)\n",
        "\n",
        "class A(metaclass=LogComputeMeta):\n",
        "  def compute_addition(self, a, b):\n",
        "    return a + b\n",
        "\n",
        "a = A()\n",
        "a.compute_addition(1, 2)"
      ],
      "execution_count": null,
      "outputs": []
    },
    {
      "cell_type": "markdown",
      "metadata": {
        "id": "5zCZq0A9ypoa"
      },
      "source": [
        "## Modification de la hierarchie de classes"
      ]
    },
    {
      "cell_type": "markdown",
      "metadata": {
        "id": "TL_CI0XIytTV"
      },
      "source": [
        "Il est aussi possible avec des méta-classes de modifier les parents d'une classe.\n",
        "\n",
        "Créez une méta-classe qui ajoute la classe `DataSaver` aux parents de la classe produite si celle-ci contient un attribut `data`."
      ]
    },
    {
      "cell_type": "code",
      "metadata": {
        "id": "-zRNsSrnzb2d"
      },
      "source": [
        "class DataSaver:\n",
        "  def save(self):\n",
        "    print(f\"Saving data {self.data}…\")\n",
        "\n",
        "\n",
        "# Votre code ici"
      ],
      "execution_count": null,
      "outputs": []
    },
    {
      "cell_type": "markdown",
      "metadata": {
        "id": "zt6ICb3s0b8l"
      },
      "source": [
        "### Solution"
      ]
    },
    {
      "cell_type": "code",
      "metadata": {
        "id": "UFUtJzUC0DWv"
      },
      "source": [
        "class DataSaverMeta(type):\n",
        "  def __new__(self, name, bases, dct):\n",
        "    if \"data\" in dct:\n",
        "      bases += (DataSaver,)\n",
        "    return super().__new__(self, name, bases, dct)\n",
        "\n",
        "\n",
        "class A(metaclass=DataSaverMeta):\n",
        "  data = [1, 2]\n",
        "\n",
        "\n",
        "class B(metaclass=DataSaverMeta):\n",
        "  a = [1, 2]\n",
        "\n",
        "\n",
        "a = A()\n",
        "b = B()\n",
        "a.save()\n",
        "b.save()"
      ],
      "execution_count": null,
      "outputs": []
    }
  ]
}