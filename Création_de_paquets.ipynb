{
  "nbformat": 4,
  "nbformat_minor": 0,
  "metadata": {
    "colab": {
      "name": "Création de paquets.ipynb",
      "private_outputs": true,
      "provenance": [],
      "collapsed_sections": [
        "SGMQ-Gy9CIK6",
        "aUelTSLQFOkv",
        "A9F3QjfOF-QC"
      ],
      "include_colab_link": true
    },
    "kernelspec": {
      "name": "python3",
      "display_name": "Python 3"
    }
  },
  "cells": [
    {
      "cell_type": "markdown",
      "metadata": {
        "id": "view-in-github",
        "colab_type": "text"
      },
      "source": [
        "<a href=\"https://colab.research.google.com/github/qianzhou1982/Demo/blob/master/Cr%C3%A9ation_de_paquets.ipynb\" target=\"_parent\"><img src=\"https://colab.research.google.com/assets/colab-badge.svg\" alt=\"Open In Colab\"/></a>"
      ]
    },
    {
      "cell_type": "markdown",
      "metadata": {
        "id": "zw7sB2JsAXXJ"
      },
      "source": [
        "# Création de paquets"
      ]
    },
    {
      "cell_type": "markdown",
      "metadata": {
        "id": "u4yP27ejAbMq"
      },
      "source": [
        "## Installation de `poetry`\n",
        "\n",
        "`poetry` est un très bon outil de gestion de dépendances et de gestion de paquets Python.\n",
        "\n",
        "La cellule suivante l'installe dans cet environnement de notebook."
      ]
    },
    {
      "cell_type": "code",
      "metadata": {
        "id": "UrCosJFZ7STT"
      },
      "source": [
        "!rm -rf sample_data\n",
        "!curl -sSL https://raw.githubusercontent.com/python-poetry/poetry/master/get-poetry.py | python -\n",
        "path = %env PATH\n",
        "poetry_path = \"/root/.poetry/bin\"\n",
        "if poetry_path not in path:\n",
        "  path = f\"{poetry_path}:{path}\"\n",
        "  %set_env PATH $path\n",
        "!poetry config repositories.testpypi https://test.pypi.org/legacy/"
      ],
      "execution_count": null,
      "outputs": []
    },
    {
      "cell_type": "markdown",
      "metadata": {
        "id": "jkZRmgk9BMma"
      },
      "source": [
        "## Inscription sur Test PyPI\n",
        "\n",
        "Pour pouvoir expérimenter avec la création de paquets, il est nécessaire de créer un compte sur l'[index de paquets de test](https://test.pypi.org/) de Python, Test PyPI.\n",
        "\n",
        "Créez un compte sur Test PyPI, ainsi qu'un token d'API. Conservez ce token pour la suite du TP."
      ]
    },
    {
      "cell_type": "markdown",
      "metadata": {
        "id": "9Oz6t_QEA3yB"
      },
      "source": [
        "## Création de paquet\n",
        "\n",
        "Utilisez `poetry` pour créer un squelette de paquet Python. Vous pourrez utiliser comme nom de paquet `tp_{pseudopypi}` pour que votre paquet soit unique."
      ]
    },
    {
      "cell_type": "code",
      "metadata": {
        "id": "GQ401leG0XsX"
      },
      "source": [
        "%%bash\n",
        "# Votre code ici"
      ],
      "execution_count": null,
      "outputs": []
    },
    {
      "cell_type": "markdown",
      "metadata": {
        "id": "SGMQ-Gy9CIK6"
      },
      "source": [
        "### Solution"
      ]
    },
    {
      "cell_type": "code",
      "metadata": {
        "id": "1rjUweAGCJB3"
      },
      "source": [
        "%%bash\n",
        "poetry new /content/tp_m09"
      ],
      "execution_count": null,
      "outputs": []
    },
    {
      "cell_type": "code",
      "metadata": {
        "id": "m9rNsiBxqg0H"
      },
      "source": [
        "%cd /content/tp_m09"
      ],
      "execution_count": null,
      "outputs": []
    },
    {
      "cell_type": "markdown",
      "metadata": {
        "id": "_ZaU4yzdCN8Y"
      },
      "source": [
        "## Création des archive et roue de distribution\n",
        "\n",
        "Utilisez `poetry` pour construire les archive et roue de distribution de votre paquet."
      ]
    },
    {
      "cell_type": "code",
      "metadata": {
        "id": "AwN6Qlv7FNDG"
      },
      "source": [
        "%%bash\n",
        "# Votre code ici"
      ],
      "execution_count": null,
      "outputs": []
    },
    {
      "cell_type": "markdown",
      "metadata": {
        "id": "aUelTSLQFOkv"
      },
      "source": [
        "### Solution"
      ]
    },
    {
      "cell_type": "code",
      "metadata": {
        "id": "rhiKt0ZgFPao"
      },
      "source": [
        "%%bash\n",
        "poetry build\n",
        "ls dist"
      ],
      "execution_count": null,
      "outputs": []
    },
    {
      "cell_type": "markdown",
      "metadata": {
        "id": "a7NFfchNFK4Z"
      },
      "source": [
        "## Publication de paquet\n",
        "\n",
        "Publiez maintenant votre paquet sur Test PyPI. Pour cela, par rapport à une publication normale, vous devrez préciser l'argument `-r testpypi` pour que le serveur choisi ne soit pas PyPI mais bien Test PyPI."
      ]
    },
    {
      "cell_type": "code",
      "metadata": {
        "id": "hK66Zf__2qWA"
      },
      "source": [
        "%%bash\n",
        "# Votre code ici"
      ],
      "execution_count": null,
      "outputs": []
    },
    {
      "cell_type": "markdown",
      "metadata": {
        "id": "A9F3QjfOF-QC"
      },
      "source": [
        "### Solution"
      ]
    },
    {
      "cell_type": "code",
      "metadata": {
        "id": "iOW1FmHsF_xK"
      },
      "source": [
        "%%bash\n",
        "poetry publish -r testpypi -u __token__ -p pypi-AgENdGVzdC5weXBpLm9yZwIkNTUwODg4YjYtZDU3MC00M2QwLWIyZDEtMTk4MDk0OGJlNDc3AAIleyJwZXJtaXNzaW9ucyI6ICJ1c2VyIiwgInZlcnNpb24iOiAxfQAABiCFHBCj-D4SYwVBVUZEgExKVOq6P2AvEYrUg5zyo5My5Q"
      ],
      "execution_count": null,
      "outputs": []
    }
  ]
}