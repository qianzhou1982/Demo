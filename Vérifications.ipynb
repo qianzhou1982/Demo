{
  "nbformat": 4,
  "nbformat_minor": 0,
  "metadata": {
    "colab": {
      "name": "Vérifications.ipynb",
      "private_outputs": true,
      "provenance": [],
      "collapsed_sections": [
        "pFNq5Y8M77PH",
        "qxIUkHAs0-vM",
        "pLKxITYBzr43",
        "9_lIk_6WxkQK",
        "XRtUVrxG7WrG",
        "gsvLqZkh-fGg"
      ],
      "toc_visible": true,
      "include_colab_link": true
    },
    "kernelspec": {
      "name": "python3",
      "display_name": "Python 3"
    }
  },
  "cells": [
    {
      "cell_type": "markdown",
      "metadata": {
        "id": "view-in-github",
        "colab_type": "text"
      },
      "source": [
        "<a href=\"https://colab.research.google.com/github/qianzhou1982/Demo/blob/master/V%C3%A9rifications.ipynb\" target=\"_parent\"><img src=\"https://colab.research.google.com/assets/colab-badge.svg\" alt=\"Open In Colab\"/></a>"
      ]
    },
    {
      "cell_type": "markdown",
      "metadata": {
        "id": "VU75RpqJhfIg"
      },
      "source": [
        "# Vérifications"
      ]
    },
    {
      "cell_type": "markdown",
      "metadata": {
        "id": "xc6gKR7Qhhfx"
      },
      "source": [
        "## Mise en place de l'environnement de travail\n",
        "\n",
        "- Cliquez sur l'icone dossier du panneau latéral, puis connectez votre Drive\n",
        "- Exécutez la commande suivante, qui va récupérer le matériel requis et le mettre dans le dossier `python-avance/verifications/` de votre Drive, pour que vous ne perdiez pas votre travail. Cette commande va aussi changer le répertoire courant du notebook pour pointer vers ce dossier."
      ]
    },
    {
      "cell_type": "code",
      "metadata": {
        "id": "4ytjc_T65kYx"
      },
      "source": [
        "import pathlib\n",
        "\n",
        "\n",
        "verifications_dir = pathlib.Path(\"/content/verifications\")\n",
        "\n",
        "!rm -rf sample_data {str(verifications_dir)}\n",
        "\n",
        "!git clone https://github.com/nzmognzmp/tp-verifications.git {str(verifications_dir)}\n",
        "\n",
        "if pathlib.Path.cwd() != verifications_dir:\n",
        "    %cd {verifications_dir}\n",
        "\n",
        "!ln -s .flake8 flake8\n",
        "!ln -s .pylintrc pylintrc"
      ],
      "execution_count": null,
      "outputs": []
    },
    {
      "cell_type": "markdown",
      "metadata": {
        "id": "ls8nwXV_7x6Y"
      },
      "source": [
        "## Typage des fonctions et classes\n",
        "\n",
        "Installez et utilisez l'outil `mypy` pour détecter les erreurs de typage du fichier `bad_options.py`.\n",
        "\n",
        "Corrigez-les. Vous pourrez pour cela utiliser l'éditeur de Colab et travailler directement sur le fichier `bad_options.py`, et procéder comme cela pour le reste de ces travaux pratiques."
      ]
    },
    {
      "cell_type": "code",
      "metadata": {
        "id": "5zQy0PMD75sy"
      },
      "source": [
        "%%bash\n",
        "# Votre code ici"
      ],
      "execution_count": null,
      "outputs": []
    },
    {
      "cell_type": "markdown",
      "metadata": {
        "id": "pFNq5Y8M77PH"
      },
      "source": [
        "### Solution"
      ]
    },
    {
      "cell_type": "code",
      "metadata": {
        "id": "umIF-qut8GKO"
      },
      "source": [
        "%%bash\n",
        "pip install mypy"
      ],
      "execution_count": null,
      "outputs": []
    },
    {
      "cell_type": "code",
      "metadata": {
        "id": "SXYQRG9i8QCv"
      },
      "source": [
        "%%bash\n",
        "mypy bad_options.py"
      ],
      "execution_count": null,
      "outputs": []
    },
    {
      "cell_type": "markdown",
      "metadata": {
        "id": "AKhjU-cp0xFv"
      },
      "source": [
        "## Détection de défauts généraux\n",
        "\n",
        "Installez et utilisez l'outil flake8 pour détecter les défauts présents dans le fichier `bad_options.py`."
      ]
    },
    {
      "cell_type": "code",
      "metadata": {
        "id": "lbQwGamv07fj"
      },
      "source": [
        "%%bash\n",
        "# Votre code ici"
      ],
      "execution_count": null,
      "outputs": []
    },
    {
      "cell_type": "markdown",
      "metadata": {
        "id": "xuu_7Y9J1ldy"
      },
      "source": [
        "Une fois que vous avez réussi à obtenir la liste des défauts produite par `flake8`, corrigez ces défauts jusqu'à ce que `flake8` ne produise plus rien."
      ]
    },
    {
      "cell_type": "markdown",
      "metadata": {
        "id": "qxIUkHAs0-vM"
      },
      "source": [
        "### Solution"
      ]
    },
    {
      "cell_type": "code",
      "metadata": {
        "id": "OBTYMiqg0_dY"
      },
      "source": [
        "!pip install flake8"
      ],
      "execution_count": null,
      "outputs": []
    },
    {
      "cell_type": "code",
      "metadata": {
        "id": "fH115vbZ1Dz-"
      },
      "source": [
        "!flake8 bad_options.py"
      ],
      "execution_count": null,
      "outputs": []
    },
    {
      "cell_type": "markdown",
      "metadata": {
        "id": "U-Zc5D5Nxq4Q"
      },
      "source": [
        "## Détection de code trop complexe\n",
        "\n",
        "`flake8` dispose d'un mécanisme de détection de code trop complexe, basé sur la [complexité cyclomatique](https://fr.wikipedia.org/wiki/Nombre_cyclomatique).\n",
        "\n",
        "Éditez le fichier `flake8` de configuration pour que l'outil détecte les fonctions trop complexes. Vous pourrez trouver l'option requise dans la [documentation de `flake8`](https://flake8.pycqa.org/en/3.8.4/user/options.html).\n",
        "\n",
        "Testez votre code ci-dessous."
      ]
    },
    {
      "cell_type": "code",
      "metadata": {
        "id": "Tz1cWU2szoSP"
      },
      "source": [
        "%%bash\n",
        "# Votre test ici"
      ],
      "execution_count": null,
      "outputs": []
    },
    {
      "cell_type": "markdown",
      "metadata": {
        "id": "pLKxITYBzr43"
      },
      "source": [
        "### Solution"
      ]
    },
    {
      "cell_type": "markdown",
      "metadata": {
        "id": "55ms5ZV2ztkK"
      },
      "source": [
        "Il faut rajouter l'option `max-complexity=10` où `10` sera la complexité maximale. Vous pouvez bien sûr changer la valeur `10`. Pour produire une erreur sur `bad_options`, il faut utiliser `4` ou moins. Dans la pratique, des complexités jusqu'à `10` sont acceptables."
      ]
    },
    {
      "cell_type": "code",
      "metadata": {
        "id": "reb9nOn80KW2"
      },
      "source": [
        "a = !grep max-complexity flake8\n",
        "if not a:\n",
        "  !echo >> flake8\n",
        "  !echo \"max-complexity=5\" >> flake8\n",
        "!flake8 bad_options.py"
      ],
      "execution_count": null,
      "outputs": []
    },
    {
      "cell_type": "markdown",
      "metadata": {
        "id": "9n4LbmfGxAHa"
      },
      "source": [
        "## Formatage du code\n",
        "\n",
        "Le formatage du code fait perdre beaucoup de temps en revue de code. Une option très intéressante et de déléguer complètement cette tâche à un outil dédié. En Python, l'outil le plus performant est [`black`](https://github.com/psf/black).\n",
        "\n",
        "Installez `black` et améliorez avec le formatage du fichier `bad_options.py`."
      ]
    },
    {
      "cell_type": "code",
      "metadata": {
        "id": "6fzjyOVAxjV1"
      },
      "source": [
        "# Votre code ici"
      ],
      "execution_count": null,
      "outputs": []
    },
    {
      "cell_type": "markdown",
      "metadata": {
        "id": "9_lIk_6WxkQK"
      },
      "source": [
        "### Solution"
      ]
    },
    {
      "cell_type": "code",
      "metadata": {
        "id": "519fi55q-k2_"
      },
      "source": [
        "!pip install black\n",
        "!black bad_options.py"
      ],
      "execution_count": null,
      "outputs": []
    },
    {
      "cell_type": "markdown",
      "metadata": {
        "id": "To0hXjTaxlz9"
      },
      "source": [
        "## Qualité de la documentation\n",
        "\n",
        "La documentation est une partie très importante du code.\n",
        "\n",
        "Pour lutter contre le *documentation drift*, dérive de la documentation en français, qui décrit l'obsolescence progressive usuelle de la documentation par rapport au code, il est important de s'outiller.\n",
        "\n",
        "Installez et utilisez `pylint` ainsi que `flake8-docstrings`. Vous pourrez afficher le contenu du fichier `pylintrc` pour voir comment configurer `pylint`.\n",
        "\n",
        "Corrigez les défauts que vous pourriez relever."
      ]
    },
    {
      "cell_type": "code",
      "metadata": {
        "id": "LAJ9ICNF7UK0"
      },
      "source": [
        "%%bash\n",
        "# Votre code ici"
      ],
      "execution_count": null,
      "outputs": []
    },
    {
      "cell_type": "markdown",
      "metadata": {
        "id": "XRtUVrxG7WrG"
      },
      "source": [
        "### Solution"
      ]
    },
    {
      "cell_type": "code",
      "metadata": {
        "id": "Mxrfdea07Bew"
      },
      "source": [
        "!pip install flake8-docstrings pylint"
      ],
      "execution_count": null,
      "outputs": []
    },
    {
      "cell_type": "code",
      "metadata": {
        "id": "qfPYvjSw_Lz6"
      },
      "source": [
        "!pylint bad_options.py\n",
        "!flake8 bad_options.py"
      ],
      "execution_count": null,
      "outputs": []
    },
    {
      "cell_type": "markdown",
      "metadata": {
        "id": "GOF-4TCI7Zip"
      },
      "source": [
        "## Création d'une commande qui regroupe toutes les vérifications\n",
        "\n",
        "Créez un fichier `Makefile` qui regroupe toutes les vérifications que vous venez de faire."
      ]
    },
    {
      "cell_type": "markdown",
      "metadata": {
        "id": "gsvLqZkh-fGg"
      },
      "source": [
        "### Solution"
      ]
    },
    {
      "cell_type": "code",
      "metadata": {
        "id": "VKdBzq8T-f7t"
      },
      "source": [
        "!wget https://raw.githubusercontent.com/nzmognzmp/tp-verifications/correction/Makefile"
      ],
      "execution_count": null,
      "outputs": []
    },
    {
      "cell_type": "code",
      "metadata": {
        "id": "1jac-N8q-nAn"
      },
      "source": [
        "!make"
      ],
      "execution_count": null,
      "outputs": []
    }
  ]
}