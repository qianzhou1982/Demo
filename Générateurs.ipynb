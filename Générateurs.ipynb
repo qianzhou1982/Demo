{
  "nbformat": 4,
  "nbformat_minor": 0,
  "metadata": {
    "colab": {
      "name": "Générateurs.ipynb",
      "private_outputs": true,
      "provenance": [],
      "collapsed_sections": [
        "sV2uQWjqgF2g",
        "-uwCBq9Er2yk",
        "tQQWRUNbGRdA",
        "F9D18lXYGsiB"
      ],
      "include_colab_link": true
    },
    "kernelspec": {
      "name": "python3",
      "display_name": "Python 3"
    }
  },
  "cells": [
    {
      "cell_type": "markdown",
      "metadata": {
        "id": "view-in-github",
        "colab_type": "text"
      },
      "source": [
        "<a href=\"https://colab.research.google.com/github/qianzhou1982/Demo/blob/master/G%C3%A9n%C3%A9rateurs.ipynb\" target=\"_parent\"><img src=\"https://colab.research.google.com/assets/colab-badge.svg\" alt=\"Open In Colab\"/></a>"
      ]
    },
    {
      "cell_type": "markdown",
      "metadata": {
        "id": "XfgS9F5NrXu_"
      },
      "source": [
        "# Générateurs"
      ]
    },
    {
      "cell_type": "markdown",
      "metadata": {
        "id": "7Q29z2lGffQm"
      },
      "source": [
        "## Transformateurs de séquences\n",
        "\n",
        "Les générateurs sont très utilisés pour transformer et utiliser des séquences sans jamais les stocker entièrement.\n",
        "\n",
        "Écrivez les transformateurs suivants, qui traiteront des séquences d'entiers :\n",
        "\n",
        "- `double` qui double les valeurs qu'on lui passe\n",
        "- `filter_even` qui retire les nombres impairs de la séquence qu'on lui fournit\n",
        "\n",
        "Testez vos transformateurs sur une grande séquence. Observez l'utilisation mémoire de l'instance."
      ]
    },
    {
      "cell_type": "code",
      "metadata": {
        "id": "_WwSsibPgDGn"
      },
      "source": [
        "# Votre code ici"
      ],
      "execution_count": null,
      "outputs": []
    },
    {
      "cell_type": "markdown",
      "metadata": {
        "id": "sV2uQWjqgF2g"
      },
      "source": [
        "### Solution"
      ]
    },
    {
      "cell_type": "code",
      "metadata": {
        "id": "iVh9ImmKgGti"
      },
      "source": [
        "from typing import Iterable, Iterator\n",
        "\n",
        "\n",
        "def double(iterator: Iterable[int]) -> Iterator[int]:\n",
        "  for item in iterator:\n",
        "    yield item * 2\n",
        "\n",
        "\n",
        "def filter_even(iterator: Iterable[int]) -> Iterator[int]:\n",
        "  for item in iterator:\n",
        "    if item % 2:\n",
        "      yield item\n",
        "\n",
        "for i in filter_even(double(range(100_000_000))):\n",
        "    pass"
      ],
      "execution_count": null,
      "outputs": []
    },
    {
      "cell_type": "markdown",
      "metadata": {
        "id": "ZqgWmyZzraQN"
      },
      "source": [
        "## Générateur de dates infini\n",
        "\n",
        "Écrivez la fonction `gen_dates` qui, à partir d'une date donnée, génère toutes les dates successives séparées d'une semaine."
      ]
    },
    {
      "cell_type": "code",
      "metadata": {
        "id": "36rRdWXVkzxe"
      },
      "source": [
        "import datetime\n",
        "from typing import Iterator\n",
        "\n",
        "\n",
        "def gen_dates(date: datetime.date) -> Iterator[datetime.date]:\n",
        "  pass  # Votre code ici"
      ],
      "execution_count": null,
      "outputs": []
    },
    {
      "cell_type": "markdown",
      "metadata": {
        "id": "glhVkeN7Gqu-"
      },
      "source": [
        "Proposez une méthode directe pour utiliser ce générateur infini.\n",
        "\n",
        "Proposez aussi une méthode `take(iterator: Iterator[T], n: int) -> Iterator[T]` (qui prend en entrée un itérateur et le modifie) pour utiliser ce générateur infini."
      ]
    },
    {
      "cell_type": "code",
      "metadata": {
        "id": "B5aZEG8lGxQQ"
      },
      "source": [
        "# Votre code ici"
      ],
      "execution_count": null,
      "outputs": []
    },
    {
      "cell_type": "markdown",
      "metadata": {
        "id": "-uwCBq9Er2yk"
      },
      "source": [
        "### Solution"
      ]
    },
    {
      "cell_type": "code",
      "metadata": {
        "id": "h4v_OI6YtH1h"
      },
      "source": [
        "import datetime\n",
        "from typing import Iterable, Iterator, TypeVar\n",
        "\n",
        "\n",
        "def gen_dates(date: datetime.date) -> Iterator[datetime.date]:\n",
        "  week = datetime.timedelta(days=7)\n",
        "  while True:\n",
        "    date += week\n",
        "    yield date\n",
        "\n",
        "\n",
        "for i, d in enumerate(gen_dates(datetime.date(1900, 1, 1))):\n",
        "  if i == 10:\n",
        "    break\n",
        "  print(d)\n",
        "\n",
        "\n",
        "T = TypeVar(\"T\")\n",
        "def take(iterator: Iterable[T], n: int) -> Iterator[T]:\n",
        "  for i, item in enumerate(iterator):\n",
        "    if i == n:\n",
        "      break\n",
        "    yield item\n",
        "\n",
        "\n",
        "for date in take(gen_dates(datetime.date(1900, 1, 1)), 10):\n",
        "  print(date)"
      ],
      "execution_count": null,
      "outputs": []
    },
    {
      "cell_type": "markdown",
      "metadata": {
        "id": "5ljLC2I7tzY-"
      },
      "source": [
        "## Utilisation de la méthode `send` d'un générateur (très difficile)\n",
        "\n",
        "Concevez un générateur qui, étant donné une somme de départ d'argent, va recevoir de votre part un taux d'intérêt et vous rendre la nouvelle valeur de la somme après application du taux."
      ]
    },
    {
      "cell_type": "code",
      "metadata": {
        "id": "6rJ3Hx_nwvVv"
      },
      "source": [
        "# Votre code ici"
      ],
      "execution_count": null,
      "outputs": []
    },
    {
      "cell_type": "markdown",
      "metadata": {
        "id": "tQQWRUNbGRdA"
      },
      "source": [
        "### Solution"
      ]
    },
    {
      "cell_type": "code",
      "metadata": {
        "id": "r-0RQUC7JL63"
      },
      "source": [
        "from typing import Generator\n",
        "\n",
        "\n",
        "def interests(amount: float) -> Generator[float, float, None]:\n",
        "  while True:\n",
        "    rate = (yield amount)\n",
        "    amount *= rate\n",
        "\n",
        "\n",
        "amounts = interests(100)\n",
        "amounts.send(None)  # Initialisation du générateur\n",
        "for rate in [1.05, 1.08, 0.98]:\n",
        "  print(amounts.send(rate))"
      ],
      "execution_count": null,
      "outputs": []
    },
    {
      "cell_type": "markdown",
      "metadata": {
        "id": "h6gi89BHGYsR"
      },
      "source": [
        "## Utilisation de la méthode `throw` d'un générateur (très difficile)\n",
        "\n",
        "Repartez du code défini à l'exercice précédent et ajoutez un mécanisme pour rajouter une somme d'argent (ou en retirer avec un somme négative). Pour cela, vous pouvez utiliser `throw`, la nature de l'exception représentant un message pour le générateur."
      ]
    },
    {
      "cell_type": "code",
      "metadata": {
        "id": "nwkS04xkGrtu"
      },
      "source": [
        "# Votre code ici"
      ],
      "execution_count": null,
      "outputs": []
    },
    {
      "cell_type": "markdown",
      "metadata": {
        "id": "F9D18lXYGsiB"
      },
      "source": [
        "### Solution"
      ]
    },
    {
      "cell_type": "code",
      "metadata": {
        "id": "USq-iDF_Gtaq"
      },
      "source": [
        "from typing import Generator\n",
        "\n",
        "\n",
        "class AddAmountException(Exception):\n",
        "  def __init__(self, value):\n",
        "    super().__init__(value)\n",
        "    self.value = value\n",
        "\n",
        "\n",
        "def interests(amount: float) -> Generator[float, float, None]:\n",
        "  while True:\n",
        "    try:\n",
        "      rate = (yield amount)\n",
        "      amount *= rate\n",
        "    except AddAmountException as e:\n",
        "      amount += e.value\n",
        "\n",
        "\n",
        "amounts = interests(100)\n",
        "amounts.send(None)  # Initialisation du générateur\n",
        "print(amounts.send(1.05))\n",
        "print(amounts.send(1.08))\n",
        "amounts.throw(AddAmountException(100))\n",
        "print(amounts.send(0.98))"
      ],
      "execution_count": null,
      "outputs": []
    }
  ]
}