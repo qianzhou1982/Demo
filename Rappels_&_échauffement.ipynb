{
  "nbformat": 4,
  "nbformat_minor": 0,
  "metadata": {
    "colab": {
      "name": "Rappels & échauffement.ipynb",
      "private_outputs": true,
      "provenance": [],
      "collapsed_sections": [
        "n-4oLCE71suf",
        "IoqaeU-8N7hI",
        "ebbXsV5qSaFu"
      ],
      "include_colab_link": true
    },
    "kernelspec": {
      "name": "python3",
      "display_name": "Python 3"
    }
  },
  "cells": [
    {
      "cell_type": "markdown",
      "metadata": {
        "id": "view-in-github",
        "colab_type": "text"
      },
      "source": [
        "<a href=\"https://colab.research.google.com/github/qianzhou1982/Demo/blob/master/Rappels_%26_%C3%A9chauffement.ipynb\" target=\"_parent\"><img src=\"https://colab.research.google.com/assets/colab-badge.svg\" alt=\"Open In Colab\"/></a>"
      ]
    },
    {
      "cell_type": "markdown",
      "metadata": {
        "id": "-yEZ4wKY1LIR"
      },
      "source": [
        "## Passage de liste à une fonction\n",
        "\n",
        "Créez une fonction `ajoute_nb_alea()` qui prend en argument une liste et qui lui ajoute un nombre entier aléatoire entre -10 et 10 (inclus). La fonction affichera à l'écran cette nouvelle liste modifiée.\n",
        "\n",
        "Dans le programme principal, on effectuera les actions suivantes&nbsp;:\n",
        "\n",
        "- Créer une variable `ma_liste = [7, 3, 8, 4, 5, 1, 9, 10, 2, 6]`.\n",
        "- Afficher `ma_liste` à l'écran.\n",
        "- Appeler la fonction `ajoute_nb_alea()` en lui passant `ma_liste` en argument.\n",
        "- Afficher à nouveau `ma_liste` à l'écran.\n",
        "\n",
        "Comment expliquez-vous le résultat obtenu&nbsp;?\n"
      ]
    },
    {
      "cell_type": "code",
      "metadata": {
        "id": "MW58A5RB1Lkq"
      },
      "source": [
        "# Votre code ici"
      ],
      "execution_count": null,
      "outputs": []
    },
    {
      "cell_type": "markdown",
      "metadata": {
        "id": "n-4oLCE71suf"
      },
      "source": [
        "### Solution"
      ]
    },
    {
      "cell_type": "code",
      "metadata": {
        "id": "hI6qE1cW1t-R"
      },
      "source": [
        "import random\n",
        "\n",
        "\n",
        "def ajoute_nb_alea(liste):\n",
        "    liste.append(random.randint(-10, 10))\n",
        "    print(liste)\n",
        "\n",
        "\n",
        "ma_liste = [7, 3, 8, 4, 5, 1, 9, 10, 2, 6]\n",
        "print(ma_liste)\n",
        "ajoute_nb_alea(ma_liste)\n",
        "print(ma_liste)"
      ],
      "execution_count": null,
      "outputs": []
    },
    {
      "cell_type": "markdown",
      "metadata": {
        "id": "foyCvKIk2QtV"
      },
      "source": [
        "La liste a été modifiée par la fonction : pour que les modifications soient locales à la fonction, on aurait dû créer une copie."
      ]
    },
    {
      "cell_type": "markdown",
      "metadata": {
        "id": "1qnK5qbUMlCZ"
      },
      "source": [
        "## Quelle personne choisir ?\n",
        "\n",
        "Vous voulez embaucher une personne pour une mission en C++ et Python. Vous avez à votre disposition les informations suivantes (sous forme d'un dictionnaire avec un nom pour clef et des compétences pour valeur).\n",
        "\n",
        "Écrivez la fonction `filtre_personnes` qui renvoie les noms des personnes compétentes."
      ]
    },
    {
      "cell_type": "code",
      "metadata": {
        "id": "AjTsBq9LN1IP"
      },
      "source": [
        "competences = {'Alice': ['SAS', 'Python', 'R'],\n",
        "               'Bob': ['HTML', 'JavaScript', 'CSS'],\n",
        "               'Laura': ['C++', 'ASM', 'Python', 'CUDA']}\n",
        "mission = ['C++', 'Python']\n",
        "\n",
        "# Votre code ici"
      ],
      "execution_count": null,
      "outputs": []
    },
    {
      "cell_type": "markdown",
      "metadata": {
        "id": "IoqaeU-8N7hI"
      },
      "source": [
        "### Solution"
      ]
    },
    {
      "cell_type": "code",
      "metadata": {
        "id": "Cpmj4N8hN8cA"
      },
      "source": [
        "def filtre_personnes(annuaire_competences, mission):\n",
        "    mission_set = frozenset(mission)\n",
        "    return [nom\n",
        "            for nom, competences in annuaire_competences.items()\n",
        "            if mission_set.issubset(competences)]\n",
        "\n",
        "\n",
        "filtre_personnes(competences, mission)"
      ],
      "execution_count": null,
      "outputs": []
    },
    {
      "cell_type": "markdown",
      "metadata": {
        "id": "zu4btiMqR5hy"
      },
      "source": [
        "## Manipulation d'ensembles\n",
        "\n",
        "Étant donné les ensembles de caractéristiques de langages de programmation suivants (vous pourrez consulter [la page d'aide](https://docs.python.org/3/library/stdtypes.html#set-types-set-frozenset) des ensembles pendant l'exercice) :\n",
        "\n",
        "- Trouvez les caractéristiques communes au JavaScript et au Python\n",
        "- Trouvez les caractéristiques exclusives du Java par rapport au Python\n",
        "- Quel est l'ensemble complet des caractéristiques ?\n",
        "- Quelles sont les caractéristiques exclusives du Python par rapport à tous les autres langages ?"
      ]
    },
    {
      "cell_type": "code",
      "metadata": {
        "id": "hHWC0bWvS0Le"
      },
      "source": [
        "js = {\"typage dynamique\", \"interprété\", \"web natif\", \"orienté prototype\"}\n",
        "python = {\"typage dynamique\", \"interprété\", \"calcul scientifique\", \"orienté objet\"}\n",
        "java = {\"compilé\", \"orienté objet\", \"typage statique\"}\n",
        "\n",
        "langages = [js, python, java]"
      ],
      "execution_count": null,
      "outputs": []
    },
    {
      "cell_type": "code",
      "metadata": {
        "id": "KRm-9WB9Sh3o"
      },
      "source": [
        "# Votre code ici"
      ],
      "execution_count": null,
      "outputs": []
    },
    {
      "cell_type": "markdown",
      "metadata": {
        "id": "ebbXsV5qSaFu"
      },
      "source": [
        "### Solution"
      ]
    },
    {
      "cell_type": "code",
      "metadata": {
        "id": "0nza-gL-SeMA"
      },
      "source": [
        "print(\"Caractéristiques communes au JS et au Python :\",\n",
        "      js & python)\n",
        "print(\"Caractéristiques exclusives du Java par rapport au Python :\",\n",
        "      java - python)\n",
        "print(\"Ensemble complet des caractéristiques :\",\n",
        "      set().union(*langages))\n",
        "print(\"Caractéristiques exclusives du Python par rapport aux autres :\",\n",
        "      python.difference(js, java))"
      ],
      "execution_count": null,
      "outputs": []
    }
  ]
}