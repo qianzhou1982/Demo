{
  "nbformat": 4,
  "nbformat_minor": 0,
  "metadata": {
    "colab": {
      "name": "Gestionnaires de contexte.ipynb",
      "private_outputs": true,
      "provenance": [],
      "collapsed_sections": [
        "tF0rEIs9gmDC",
        "RowhGZA9iGg7",
        "ZeGvEXyTH8pQ",
        "Pl8AH0xEQVh-"
      ],
      "include_colab_link": true
    },
    "kernelspec": {
      "name": "python3",
      "display_name": "Python 3"
    }
  },
  "cells": [
    {
      "cell_type": "markdown",
      "metadata": {
        "id": "view-in-github",
        "colab_type": "text"
      },
      "source": [
        "<a href=\"https://colab.research.google.com/github/qianzhou1982/Demo/blob/master/Gestionnaires_de_contexte.ipynb\" target=\"_parent\"><img src=\"https://colab.research.google.com/assets/colab-badge.svg\" alt=\"Open In Colab\"/></a>"
      ]
    },
    {
      "cell_type": "markdown",
      "metadata": {
        "id": "QRonHhEretLJ"
      },
      "source": [
        "# Gestionnaires de contexte"
      ]
    },
    {
      "cell_type": "markdown",
      "metadata": {
        "id": "ukDE0iZeeyTg"
      },
      "source": [
        "## Implémentation d'un gestionnaire de contexte avec les méthodes magiques\n",
        "\n",
        "Créez une classe `StdoutRedirector` qui sera utilisable comme un gestionnaire de contexte. Vous pouvez consulter la documentation du type [`ContextManager`](https://docs.python.org/fr/3/library/stdtypes.html#typecontextmanager). Cette classe stockera la valeur de `sys.stdout` à l'entrée dans le contexte, et la remplacera par l'argument qui lui est donné à sa création. À la sortie du contexte, l'ancienne sortie standard devra être restaurée."
      ]
    },
    {
      "cell_type": "code",
      "metadata": {
        "id": "ny64ZJqylBfg"
      },
      "source": [
        "# Votre code ici"
      ],
      "execution_count": null,
      "outputs": []
    },
    {
      "cell_type": "markdown",
      "metadata": {
        "id": "tF0rEIs9gmDC"
      },
      "source": [
        "### Solution"
      ]
    },
    {
      "cell_type": "code",
      "metadata": {
        "id": "_uFmZ-V8-5He"
      },
      "source": [
        "import io\n",
        "import sys\n",
        "\n",
        "\n",
        "class StdoutRedirector:\n",
        "  def __init__(self, new_stdout):\n",
        "    self.new_stdout = new_stdout\n",
        "\n",
        "  def __enter__(self):\n",
        "    self.old_stdout = sys.stdout\n",
        "    sys.stdout = self.new_stdout\n",
        "\n",
        "  def __exit__(self, exc_type, exc_val, exc_tb):\n",
        "    sys.stdout = self.old_stdout\n",
        "    return False\n",
        "\n",
        "\n",
        "with io.StringIO() as string_io:\n",
        "  with StdoutRedirector(string_io):\n",
        "    print(\"Hello World\")\n",
        "  print(f\"Valeur de la StringIO : {string_io.getvalue()}\")"
      ],
      "execution_count": null,
      "outputs": []
    },
    {
      "cell_type": "markdown",
      "metadata": {
        "id": "D9BS77_CghTo"
      },
      "source": [
        "## Implémentation d'un gestionnaire de contexte avec un générateur\n",
        "\n",
        "Recréez le contexte StdoutRedirector mais cette fois à l'aide de la méthode [`contextlib.contextmanager`](https://docs.python.org/fr/3/library/contextlib.html#contextlib.contextmanager), en utilisant un générateur."
      ]
    },
    {
      "cell_type": "code",
      "metadata": {
        "id": "AuMHn9NLgk9i"
      },
      "source": [
        "# Votre code ici"
      ],
      "execution_count": null,
      "outputs": []
    },
    {
      "cell_type": "markdown",
      "metadata": {
        "id": "RowhGZA9iGg7"
      },
      "source": [
        "### Solution"
      ]
    },
    {
      "cell_type": "code",
      "metadata": {
        "id": "ehX4aGzIiHcv"
      },
      "source": [
        "import contextlib\n",
        "import io\n",
        "import sys\n",
        "\n",
        "\n",
        "@contextlib.contextmanager\n",
        "def StdoutRedirector(new_stdout):\n",
        "  try:\n",
        "    old_stdout = sys.stdout\n",
        "    sys.stdout = new_stdout\n",
        "    yield\n",
        "  finally:\n",
        "    sys.stdout = old_stdout\n",
        "\n",
        "\n",
        "with io.StringIO() as string_io:\n",
        "  with StdoutRedirector(string_io):\n",
        "    print(\"Hello World\")\n",
        "  print(f\"Valeur de la StringIO : {string_io.getvalue()}\")"
      ],
      "execution_count": null,
      "outputs": []
    },
    {
      "cell_type": "markdown",
      "metadata": {
        "id": "GscHvaXAHkfw"
      },
      "source": [
        "## Implémentation d'un contexte qui gère la fermeture d'une ressource\n",
        "\n",
        "Implémentez avec et sans `contextlib.contextmanager` un gestionnaire de contexte qui ferme une ressource qui dispose d'une méthode `close` qu'on lui donne en argument quoi qu'il arrive à la fin du contexte."
      ]
    },
    {
      "cell_type": "code",
      "metadata": {
        "id": "MhKAmD-XH70o"
      },
      "source": [
        "# Votre code ici"
      ],
      "execution_count": null,
      "outputs": []
    },
    {
      "cell_type": "markdown",
      "metadata": {
        "id": "ZeGvEXyTH8pQ"
      },
      "source": [
        "### Solution"
      ]
    },
    {
      "cell_type": "code",
      "metadata": {
        "id": "_KvRisNNH9aJ"
      },
      "source": [
        "import contextlib\n",
        "\n",
        "\n",
        "@contextlib.contextmanager\n",
        "def closing(resource):\n",
        "  try:\n",
        "    yield\n",
        "  finally:\n",
        "    resource.close()\n",
        "\n",
        "\n",
        "class Closing:\n",
        "  def __init__(self, resource):\n",
        "    self.resource = resource\n",
        "\n",
        "  def __enter__(self):\n",
        "    pass\n",
        "\n",
        "  def __exit__(self, exc_type, exc_val, exc_tb):\n",
        "    self.resource.close()\n",
        "    return False\n",
        "\n",
        "\n",
        "class Resource:\n",
        "  def close(self):\n",
        "    print(\"Fermée\")\n",
        "\n",
        "resource = Resource()\n",
        "with Closing(resource):\n",
        "  pass"
      ],
      "execution_count": null,
      "outputs": []
    },
    {
      "cell_type": "markdown",
      "metadata": {
        "id": "pmEKt7URP7DR"
      },
      "source": [
        "## Réimplémentation du décorateur `contextlib.contextmanager` (difficile)\n",
        "\n",
        "À l'aide d'un décorateur, qui créera une classe avec les méthodes `__init__`, `__enter__` et `__exit__`, réimplémentez le décorateur [`contextlib.contextmanager`](https://docs.python.org/fr/3/library/contextlib.html#contextlib.contextmanager)."
      ]
    },
    {
      "cell_type": "code",
      "metadata": {
        "id": "n11TiGTlQUMs"
      },
      "source": [
        "# Votre code ici"
      ],
      "execution_count": null,
      "outputs": []
    },
    {
      "cell_type": "markdown",
      "metadata": {
        "id": "Pl8AH0xEQVh-"
      },
      "source": [
        "### Solution"
      ]
    },
    {
      "cell_type": "code",
      "metadata": {
        "id": "1i6b_swJQWbd"
      },
      "source": [
        "import io\n",
        "\n",
        "def contextmanager(generator):\n",
        "  class Wrapper:\n",
        "    def __init__(self, *args, **kwargs):\n",
        "      self.generator = generator(*args, **kwargs)\n",
        "\n",
        "    def __enter__(self):\n",
        "      return next(self.generator)\n",
        "\n",
        "    def __exit__(self, exc_type, exc_val, exc_tb):\n",
        "      try:\n",
        "        next(self.generator)\n",
        "      except StopIteration:\n",
        "        pass\n",
        "      else:\n",
        "        raise RuntimeError(\"Generator used as a context should yield only once\")\n",
        "      False\n",
        "\n",
        "  return Wrapper\n",
        "\n",
        "@contextmanager\n",
        "def StdoutRedirector(new_stdout):\n",
        "  try:\n",
        "    old_stdout = sys.stdout\n",
        "    sys.stdout = new_stdout\n",
        "    yield\n",
        "  finally:\n",
        "    sys.stdout = old_stdout\n",
        "\n",
        "string_io = io.StringIO()\n",
        "\n",
        "with StdoutRedirector(string_io):\n",
        "  print(\"Hello World!\")\n",
        "\n",
        "print(\"Hello Nantes!\")\n",
        "\n",
        "string_io.getvalue()"
      ],
      "execution_count": null,
      "outputs": []
    }
  ]
}